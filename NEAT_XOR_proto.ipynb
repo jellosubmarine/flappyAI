{
 "cells": [
  {
   "cell_type": "code",
   "execution_count": 2,
   "metadata": {},
   "outputs": [],
   "source": [
    "INPUTS = 2\n",
    "OUTPUTS = 3\n",
    "\n",
    "# A global dictionary to keep count of innovation histories\n",
    "global_innovation_dictionary = {}\n",
    "\n",
    "# A global counter that keeps count of current innovation number\n",
    "innovation_counter = 0\n",
    "\n",
    "# Add initial innovation numbers to the innovation dictionary\n",
    "# idea is that you can check if two keys have the same innovation number,\n",
    "# which signifies a connection\n",
    "# Might make sense to create a secondary dictionary that is the reverse of this one\n",
    "\n",
    "for idx_node in range(INPUTS):\n",
    "    global_innovation_dictionary[idx_node] = [innovation_counter]\n",
    "    innovation_counter += 1\n",
    "\n",
    "for idx_node in range(INPUTS, INPUTS + OUTPUTS):\n",
    "    global_innovation_dictionary[idx_node] = list(range(innovation_counter))\n"
   ]
  },
  {
   "cell_type": "code",
   "execution_count": 3,
   "metadata": {},
   "outputs": [],
   "source": [
    "class Genome:\n",
    "    \n",
    "    \n",
    "    def __init__(self, N_inputs, N_outputs):\n",
    "        \n",
    "        # Dictionary that defines all the inputs for one node\n",
    "        self.inputs = {}\n",
    "        \n",
    "        # Dictionary that defines the output of a node\n",
    "        self.outputs = {}\n",
    "        \n",
    "        # Dictionary that defines the innovations of one specific gene\n",
    "        self.innovations = {}\n",
    "        \n",
    "        \n",
    "        # Create initial structure of Genome\n",
    "        for idx_output in range(N_outputs):\n",
    "            for idx_input in range(N_inputs):\n",
    "                if idx_input == 0:\n",
    "                    self.inputs[N_inputs + idx_output] = {idx_input: 1}\n",
    "                else:\n",
    "                    self.inputs[N_inputs + idx_output][idx_input] = 1\n",
    "        \n",
    "        for idx_node in range(N_inputs + N_outputs):\n",
    "            self.outputs[idx_node] = 0\n",
    "        \n",
    "    \n",
    "    # add a new connection between two existing nodes (from node1 to node2)\n",
    "    def add_connection(self, node1, node2, weight = 1):\n",
    "        self.inputs[node2][node1] = 1\n",
    "    \n",
    "    # disable a connection between two existing nodes (from node1 to node2)\n",
    "    def disable_connection(self, node1, node2):\n",
    "        self.inputs[node2].pop(node1)\n",
    "        \n",
    "    # add a new node between two existing nodes (from node1 to node2)\n",
    "    def add_node(self, node1, node2, node_no):\n",
    "        self.outputs[node_no] = 0\n",
    "        self.add_connection(node_no, node2, self.inputs[node2][node1])\n",
    "        self.disable_connection(node1, node2)\n",
    "        self.inputs[node_no] = {node1:  1}\n",
    "    \n",
    "    # Update the weight for the connection between node1 and node2\n",
    "    def update_weight(self, node1, node2, new_weight):\n",
    "        self.inputs[node2][node1] = new_weight\n",
    "    \n",
    "    \n",
    "    "
   ]
  },
  {
   "cell_type": "code",
   "execution_count": 4,
   "metadata": {},
   "outputs": [
    {
     "name": "stdout",
     "output_type": "stream",
     "text": [
      "{2: {0: 1, 1: 1}, 3: {0: 1, 1: 1}, 4: {0: 1, 1: 1}}\n",
      "{0: 0, 1: 0, 2: 0, 3: 0, 4: 0}\n",
      "{2: {1: 1, 5: 1}, 3: {0: 1, 1: 1}, 4: {0: 1, 1: 1}, 5: {0: 1}}\n",
      "{0: 0, 1: 0, 2: 0, 3: 0, 4: 0, 5: 0}\n",
      "{2: {1: 1, 5: 1}, 3: {0: 3, 1: 1}, 4: {0: 1, 1: 1}, 5: {0: 1}}\n"
     ]
    }
   ],
   "source": [
    "x = Genome(2,3)\n",
    "print(x.inputs)\n",
    "print(x.outputs)\n",
    "x.add_node(0, 2, 5)\n",
    "print(x.inputs)\n",
    "print(x.outputs)\n",
    "x.update_weight(0, 3, 3)\n",
    "print(x.inputs)"
   ]
  },
  {
   "cell_type": "code",
   "execution_count": null,
   "metadata": {},
   "outputs": [],
   "source": [
    "+"
   ]
  }
 ],
 "metadata": {
  "kernelspec": {
   "display_name": "Python 3",
   "language": "python",
   "name": "python3"
  },
  "language_info": {
   "codemirror_mode": {
    "name": "ipython",
    "version": 3
   },
   "file_extension": ".py",
   "mimetype": "text/x-python",
   "name": "python",
   "nbconvert_exporter": "python",
   "pygments_lexer": "ipython3",
   "version": "3.7.6"
  }
 },
 "nbformat": 4,
 "nbformat_minor": 4
}
