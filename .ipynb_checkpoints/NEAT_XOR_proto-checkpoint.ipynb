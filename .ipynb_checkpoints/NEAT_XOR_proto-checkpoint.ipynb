{
 "cells": [
  {
   "cell_type": "code",
   "execution_count": 2,
   "metadata": {},
   "outputs": [],
   "source": [
    "INPUTS = 2\n",
    "OUTPUTS = 3\n",
    "\n",
    "INPUT = 0\n",
    "OUTPUT = 1\n",
    "HIDDEN = 2\n",
    "\n",
    "# A global dictionary to keep count of innovation histories\n",
    "global_innovation_dictionary = {}\n",
    "\n",
    "# A global counter that keeps count of current innovation number\n",
    "innovation_counter = 0\n",
    "\n",
    "# Add initial innovation numbers to the innovation dictionary\n",
    "# idea is that you can check if two keys have the same innovation number,\n",
    "# which signifies a connection\n",
    "# Might make sense to create a secondary dictionary that is the reverse of this one\n",
    "\n",
    "for idx_node in range(INPUTS):\n",
    "    global_innovation_dictionary[idx_node] = [innovation_counter]\n",
    "    innovation_counter += 1\n",
    "\n",
    "for idx_node in range(INPUTS, INPUTS + OUTPUTS):\n",
    "    global_innovation_dictionary[idx_node] = list(range(innovation_counter))\n"
   ]
  },
  {
   "cell_type": "code",
   "execution_count": 1,
   "metadata": {},
   "outputs": [],
   "source": [
    "class Connection:\n",
    "    def __init__(self, i, o, innovation_no, weight=1):\n",
    "        self.i = i #input node class\n",
    "        self.o = o #output node class\n",
    "        self.weight = weight\n",
    "        self.enabled = True\n",
    "        self.innovation_no = innovation_no\n",
    "        "
   ]
  },
  {
   "cell_type": "code",
   "execution_count": null,
   "metadata": {},
   "outputs": [],
   "source": [
    "class Node:\n",
    "    def __init__(self, no, _type):\n",
    "        self.number = no\n",
    "        self.type = _type #input is 0, output is 1, hidden is 2\n",
    "        self.output = 0\n",
    "        self.input_connections = []\n",
    "    \n",
    "    def ReLu(x):\n",
    "        x = np.maximum(0,x)\n",
    "    \n",
    "    def calc_output():\n",
    "        input_sum = 0\n",
    "        for connection in self.input_connections:\n",
    "            input_sum += connection.i.output * connection.weight\n",
    "        self.output = self.ReLu(input_sum)"
   ]
  },
  {
   "cell_type": "code",
   "execution_count": 3,
   "metadata": {},
   "outputs": [],
   "source": [
    "class Genome:\n",
    "    def __init__(self, N_inputs, N_outputs):        \n",
    "        self.nodes = []\n",
    "        self.connections = []\n",
    "        \n",
    "        \n",
    "        for idx_input in range(N_inputs):\n",
    "            self.nodes.append(Node(idx_input))\n",
    "\n",
    "        for idx_output in range(N_outputs):\n",
    "            self.nodes.append(Node(N_inputs + idx_output))\n",
    "        \n",
    "        \n",
    "        # Create initial structure of Genome\n",
    "        #input[node nr][input node nr] = connection weight\n",
    "        for idx_output in range(N_outputs):\n",
    "            for idx_input in range(N_inputs):\n",
    "                if idx_input == 0:\n",
    "                    self.inputs[N_inputs + idx_output] = {idx_input: 1}\n",
    "                else:\n",
    "                    self.inputs[N_inputs + idx_output][idx_input] = 1\n",
    "        \n",
    "        for idx_node in range(N_inputs + N_outputs):\n",
    "            self.outputs[idx_node] = 0\n",
    "        \n",
    "    \n",
    "    # add a new connection between two existing nodes (from node1 to node2)\n",
    "    def add_connection(self, node1, node2, weight = 1):\n",
    "        self.inputs[node2][node1] = 1\n",
    "    \n",
    "    # disable a connection between two existing nodes (from node1 to node2)\n",
    "    def disable_connection(self, node1, node2):\n",
    "        self.inputs[node2].pop(node1)\n",
    "        \n",
    "    # add a new node between two existing nodes (from node1 to node2)\n",
    "    def add_node(self, node1, node2, node_no):\n",
    "        self.outputs[node_no] = 0\n",
    "        self.add_connection(node_no, node2, self.inputs[node2][node1])\n",
    "        self.disable_connection(node1, node2)\n",
    "        self.inputs[node_no] = {node1:  1}\n",
    "    \n",
    "    # Update the weight for the connection between node1 and node2\n",
    "    def update_weight(self, node1, node2, new_weight):\n",
    "        self.inputs[node2][node1] = new_weight\n",
    "    \n",
    "    \n",
    "    "
   ]
  },
  {
   "cell_type": "code",
   "execution_count": 4,
   "metadata": {},
   "outputs": [
    {
     "name": "stdout",
     "output_type": "stream",
     "text": [
      "{2: {0: 1, 1: 1}, 3: {0: 1, 1: 1}, 4: {0: 1, 1: 1}}\n",
      "{0: 0, 1: 0, 2: 0, 3: 0, 4: 0}\n",
      "{2: {1: 1, 5: 1}, 3: {0: 1, 1: 1}, 4: {0: 1, 1: 1}, 5: {0: 1}}\n",
      "{0: 0, 1: 0, 2: 0, 3: 0, 4: 0, 5: 0}\n",
      "{2: {1: 1, 5: 1}, 3: {0: 3, 1: 1}, 4: {0: 1, 1: 1}, 5: {0: 1}}\n"
     ]
    }
   ],
   "source": [
    "x = Genome(2,3)\n",
    "print(x.inputs)\n",
    "print(x.outputs)\n",
    "x.add_node(0, 2, 5)\n",
    "print(x.inputs)\n",
    "print(x.outputs)\n",
    "x.update_weight(0, 3, 3)\n",
    "print(x.inputs)"
   ]
  },
  {
   "cell_type": "code",
   "execution_count": 3,
   "metadata": {},
   "outputs": [
    {
     "name": "stdout",
     "output_type": "stream",
     "text": [
      "0\n"
     ]
    }
   ],
   "source": []
  },
  {
   "cell_type": "code",
   "execution_count": null,
   "metadata": {},
   "outputs": [],
   "source": []
  }
 ],
 "metadata": {
  "kernelspec": {
   "display_name": "Python 3",
   "language": "python",
   "name": "python3"
  },
  "language_info": {
   "codemirror_mode": {
    "name": "ipython",
    "version": 3
   },
   "file_extension": ".py",
   "mimetype": "text/x-python",
   "name": "python",
   "nbconvert_exporter": "python",
   "pygments_lexer": "ipython3",
   "version": "3.7.3"
  }
 },
 "nbformat": 4,
 "nbformat_minor": 4
}
